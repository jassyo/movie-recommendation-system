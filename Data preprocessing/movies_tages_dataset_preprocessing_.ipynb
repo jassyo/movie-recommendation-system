{
  "nbformat": 4,
  "nbformat_minor": 0,
  "metadata": {
    "colab": {
      "provenance": []
    },
    "kernelspec": {
      "name": "python3",
      "display_name": "Python 3"
    },
    "language_info": {
      "name": "python"
    }
  },
  "cells": [
    {
      "cell_type": "code",
      "execution_count": 1,
      "metadata": {
        "id": "CtAnaiqs2zrn"
      },
      "outputs": [],
      "source": [
        "import pandas as pd\n",
        "import csv\n",
        "import requests\n",
        "import pandas as pd\n",
        "import time"
      ]
    },
    {
      "cell_type": "code",
      "source": [
        "df2 = pd.read_csv(\"/content/movies_tags.csv\")"
      ],
      "metadata": {
        "id": "8hKo4YyV3UIC"
      },
      "execution_count": 2,
      "outputs": []
    },
    {
      "cell_type": "code",
      "source": [
        "df2.info()"
      ],
      "metadata": {
        "colab": {
          "base_uri": "https://localhost:8080/"
        },
        "id": "S_sIVrHh3aDc",
        "outputId": "02600fb9-c2b5-470a-9a16-65f62c83b55a"
      },
      "execution_count": 3,
      "outputs": [
        {
          "output_type": "stream",
          "name": "stdout",
          "text": [
            "<class 'pandas.core.frame.DataFrame'>\n",
            "RangeIndex: 4803 entries, 0 to 4802\n",
            "Data columns (total 24 columns):\n",
            " #   Column                Non-Null Count  Dtype  \n",
            "---  ------                --------------  -----  \n",
            " 0   index                 4803 non-null   int64  \n",
            " 1   budget                4803 non-null   int64  \n",
            " 2   genres                4775 non-null   object \n",
            " 3   homepage              1712 non-null   object \n",
            " 4   id                    4803 non-null   int64  \n",
            " 5   keywords              4391 non-null   object \n",
            " 6   original_language     4803 non-null   object \n",
            " 7   original_title        4803 non-null   object \n",
            " 8   overview              4800 non-null   object \n",
            " 9   popularity            4803 non-null   float64\n",
            " 10  production_companies  4803 non-null   object \n",
            " 11  production_countries  4803 non-null   object \n",
            " 12  release_date          4802 non-null   object \n",
            " 13  revenue               4803 non-null   int64  \n",
            " 14  runtime               4801 non-null   float64\n",
            " 15  spoken_languages      4803 non-null   object \n",
            " 16  status                4803 non-null   object \n",
            " 17  tagline               3959 non-null   object \n",
            " 18  title                 4803 non-null   object \n",
            " 19  vote_average          4803 non-null   float64\n",
            " 20  vote_count            4803 non-null   int64  \n",
            " 21  cast                  4760 non-null   object \n",
            " 22  crew                  4803 non-null   object \n",
            " 23  director              4773 non-null   object \n",
            "dtypes: float64(3), int64(5), object(16)\n",
            "memory usage: 900.7+ KB\n"
          ]
        }
      ]
    },
    {
      "cell_type": "code",
      "source": [
        "# Columns to keep\n",
        "columns_to_keep = ['genres', 'homepage', 'keywords',\n",
        "    'overview',  'runtime', 'tagline', 'title',\n",
        "    'cast',  'director'\n",
        "]\n",
        "\n",
        "# Drop all other columns\n",
        "df2 = df2[columns_to_keep]"
      ],
      "metadata": {
        "id": "9gkxtvqF3fy0"
      },
      "execution_count": 4,
      "outputs": []
    },
    {
      "cell_type": "code",
      "source": [
        "df2.info()"
      ],
      "metadata": {
        "colab": {
          "base_uri": "https://localhost:8080/"
        },
        "id": "YfnHsmvg31FU",
        "outputId": "835057fd-a8e4-43a9-fe12-5cfa5b341164"
      },
      "execution_count": 5,
      "outputs": [
        {
          "output_type": "stream",
          "name": "stdout",
          "text": [
            "<class 'pandas.core.frame.DataFrame'>\n",
            "RangeIndex: 4803 entries, 0 to 4802\n",
            "Data columns (total 9 columns):\n",
            " #   Column    Non-Null Count  Dtype  \n",
            "---  ------    --------------  -----  \n",
            " 0   genres    4775 non-null   object \n",
            " 1   homepage  1712 non-null   object \n",
            " 2   keywords  4391 non-null   object \n",
            " 3   overview  4800 non-null   object \n",
            " 4   runtime   4801 non-null   float64\n",
            " 5   tagline   3959 non-null   object \n",
            " 6   title     4803 non-null   object \n",
            " 7   cast      4760 non-null   object \n",
            " 8   director  4773 non-null   object \n",
            "dtypes: float64(1), object(8)\n",
            "memory usage: 337.8+ KB\n"
          ]
        }
      ]
    },
    {
      "cell_type": "code",
      "source": [
        "omdb_api_key = \"3200b270\"\n"
      ],
      "metadata": {
        "id": "fDx2Kv7n4fjS"
      },
      "execution_count": 6,
      "outputs": []
    },
    {
      "cell_type": "code",
      "source": [
        "# Function to fetch homepage (website) from OMDb\n",
        "def fetch_homepage_omdb(title):\n",
        "    try:\n",
        "        url = f\"http://www.omdbapi.com/?apikey={omdb_api_key}&t={title}\"\n",
        "        response = requests.get(url)\n",
        "        data = response.json()\n",
        "        website = data.get('Website', None)\n",
        "        if website and website != \"N/A\":\n",
        "            return website\n",
        "    except:\n",
        "        return None\n",
        "    return None\n"
      ],
      "metadata": {
        "id": "OIonhaVF4kwo"
      },
      "execution_count": 7,
      "outputs": []
    },
    {
      "cell_type": "code",
      "source": [
        "# Fill missing homepage values\n",
        "for idx, row in df2[df2['homepage'].isna()].iterrows():\n",
        "    homepage = fetch_homepage_omdb(row['title'])\n",
        "    if homepage:\n",
        "        df2.at[idx, 'homepage'] = homepage\n",
        "    time.sleep(0.5)  # Avoid hitting rate limits"
      ],
      "metadata": {
        "id": "OON539cu4nJB"
      },
      "execution_count": 8,
      "outputs": []
    },
    {
      "cell_type": "code",
      "source": [
        "df2.info()"
      ],
      "metadata": {
        "colab": {
          "base_uri": "https://localhost:8080/"
        },
        "id": "Ds8IUsiIAx-y",
        "outputId": "ec9b4f10-a369-4a57-a0f6-80c4c6e0c1ae"
      },
      "execution_count": 9,
      "outputs": [
        {
          "output_type": "stream",
          "name": "stdout",
          "text": [
            "<class 'pandas.core.frame.DataFrame'>\n",
            "RangeIndex: 4803 entries, 0 to 4802\n",
            "Data columns (total 9 columns):\n",
            " #   Column    Non-Null Count  Dtype  \n",
            "---  ------    --------------  -----  \n",
            " 0   genres    4775 non-null   object \n",
            " 1   homepage  1712 non-null   object \n",
            " 2   keywords  4391 non-null   object \n",
            " 3   overview  4800 non-null   object \n",
            " 4   runtime   4801 non-null   float64\n",
            " 5   tagline   3959 non-null   object \n",
            " 6   title     4803 non-null   object \n",
            " 7   cast      4760 non-null   object \n",
            " 8   director  4773 non-null   object \n",
            "dtypes: float64(1), object(8)\n",
            "memory usage: 337.8+ KB\n"
          ]
        }
      ]
    },
    {
      "cell_type": "code",
      "source": [
        "df2.to_csv('updated_movies_tages.csv', index=False)"
      ],
      "metadata": {
        "id": "4zdxnmKs3amI"
      },
      "execution_count": 11,
      "outputs": []
    }
  ]
}